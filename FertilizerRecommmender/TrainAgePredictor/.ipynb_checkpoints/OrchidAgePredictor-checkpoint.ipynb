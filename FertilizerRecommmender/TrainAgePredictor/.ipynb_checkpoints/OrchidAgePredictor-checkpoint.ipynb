{
 "cells": [
  {
   "cell_type": "code",
   "execution_count": 1,
   "id": "265bd2fa",
   "metadata": {},
   "outputs": [
    {
     "data": {
      "text/html": [
       "<div>\n",
       "<style scoped>\n",
       "    .dataframe tbody tr th:only-of-type {\n",
       "        vertical-align: middle;\n",
       "    }\n",
       "\n",
       "    .dataframe tbody tr th {\n",
       "        vertical-align: top;\n",
       "    }\n",
       "\n",
       "    .dataframe thead th {\n",
       "        text-align: right;\n",
       "    }\n",
       "</style>\n",
       "<table border=\"1\" class=\"dataframe\">\n",
       "  <thead>\n",
       "    <tr style=\"text-align: right;\">\n",
       "      <th></th>\n",
       "      <th>AQI</th>\n",
       "      <th>temperature</th>\n",
       "      <th>humidity</th>\n",
       "      <th>age</th>\n",
       "      <th>gender</th>\n",
       "      <th>pre_existing_health</th>\n",
       "      <th>occupation</th>\n",
       "      <th>pregnancy_status</th>\n",
       "      <th>smoking_status</th>\n",
       "      <th>risk_level_status</th>\n",
       "      <th>recommendation</th>\n",
       "    </tr>\n",
       "  </thead>\n",
       "  <tbody>\n",
       "    <tr>\n",
       "      <th>0</th>\n",
       "      <td>92</td>\n",
       "      <td>28.5</td>\n",
       "      <td>60</td>\n",
       "      <td>35</td>\n",
       "      <td>Male</td>\n",
       "      <td>None</td>\n",
       "      <td>Indoor</td>\n",
       "      <td>No</td>\n",
       "      <td>No</td>\n",
       "      <td>Low</td>\n",
       "      <td>1.0</td>\n",
       "    </tr>\n",
       "    <tr>\n",
       "      <th>1</th>\n",
       "      <td>78</td>\n",
       "      <td>27.2</td>\n",
       "      <td>55</td>\n",
       "      <td>42</td>\n",
       "      <td>Female</td>\n",
       "      <td>Respiratory diseases</td>\n",
       "      <td>Outdoor</td>\n",
       "      <td>No</td>\n",
       "      <td>Yes</td>\n",
       "      <td>Moderate</td>\n",
       "      <td>2.0</td>\n",
       "    </tr>\n",
       "    <tr>\n",
       "      <th>2</th>\n",
       "      <td>105</td>\n",
       "      <td>30.1</td>\n",
       "      <td>50</td>\n",
       "      <td>28</td>\n",
       "      <td>Male</td>\n",
       "      <td>None</td>\n",
       "      <td>Indoor</td>\n",
       "      <td>No</td>\n",
       "      <td>No</td>\n",
       "      <td>High</td>\n",
       "      <td>3.0</td>\n",
       "    </tr>\n",
       "    <tr>\n",
       "      <th>3</th>\n",
       "      <td>68</td>\n",
       "      <td>26.8</td>\n",
       "      <td>62</td>\n",
       "      <td>51</td>\n",
       "      <td>Female</td>\n",
       "      <td>Cardiovascular diseases</td>\n",
       "      <td>Outdoor</td>\n",
       "      <td>No</td>\n",
       "      <td>Yes</td>\n",
       "      <td>Low</td>\n",
       "      <td>2.0</td>\n",
       "    </tr>\n",
       "    <tr>\n",
       "      <th>4</th>\n",
       "      <td>143</td>\n",
       "      <td>31.2</td>\n",
       "      <td>48</td>\n",
       "      <td>39</td>\n",
       "      <td>Male</td>\n",
       "      <td>Other</td>\n",
       "      <td>Indoor</td>\n",
       "      <td>Yes</td>\n",
       "      <td>No</td>\n",
       "      <td>Very High</td>\n",
       "      <td>4.0</td>\n",
       "    </tr>\n",
       "  </tbody>\n",
       "</table>\n",
       "</div>"
      ],
      "text/plain": [
       "   AQI  temperature  humidity  age  gender      pre_existing_health  \\\n",
       "0   92         28.5        60   35    Male                     None   \n",
       "1   78         27.2        55   42  Female     Respiratory diseases   \n",
       "2  105         30.1        50   28    Male                     None   \n",
       "3   68         26.8        62   51  Female  Cardiovascular diseases   \n",
       "4  143         31.2        48   39    Male                    Other   \n",
       "\n",
       "  occupation pregnancy_status smoking_status risk_level_status  recommendation  \n",
       "0     Indoor               No             No               Low             1.0  \n",
       "1    Outdoor               No            Yes          Moderate             2.0  \n",
       "2     Indoor               No             No              High             3.0  \n",
       "3    Outdoor               No            Yes               Low             2.0  \n",
       "4     Indoor              Yes             No         Very High             4.0  "
      ]
     },
     "execution_count": 1,
     "metadata": {},
     "output_type": "execute_result"
    }
   ],
   "source": [
    "# Import necessary libraries\n",
    "import numpy as np\n",
    "import pandas as pd\n",
    "import matplotlib.pyplot as plt\n",
    "\n",
    "from sklearn.linear_model import LogisticRegression\n",
    "from sklearn.neighbors import KNeighborsClassifier\n",
    "from sklearn.tree import DecisionTreeClassifier\n",
    "from sklearn.model_selection import train_test_split\n",
    "from sklearn.metrics import accuracy_score, confusion_matrix, ConfusionMatrixDisplay\n",
    "\n",
    "data = pd.read_csv(\"DataSets/recomndation.csv\")\n",
    "data.head(5)"
   ]
  },
  {
   "cell_type": "code",
   "execution_count": 2,
   "id": "cd86709b",
   "metadata": {},
   "outputs": [
    {
     "data": {
      "text/plain": [
       "Male      518\n",
       "Female    507\n",
       "Name: gender, dtype: int64"
      ]
     },
     "execution_count": 2,
     "metadata": {},
     "output_type": "execute_result"
    }
   ],
   "source": [
    "data['gender'].value_counts()"
   ]
  },
  {
   "cell_type": "code",
   "execution_count": null,
   "id": "a61a2f0a",
   "metadata": {},
   "outputs": [],
   "source": [
    "data['gender'] = "
   ]
  },
  {
   "cell_type": "code",
   "execution_count": null,
   "id": "a78a5190",
   "metadata": {},
   "outputs": [],
   "source": []
  },
  {
   "cell_type": "code",
   "execution_count": 50,
   "id": "08031488",
   "metadata": {},
   "outputs": [
    {
     "data": {
      "text/plain": [
       "3    15782\n",
       "0     3082\n",
       "2      285\n",
       "1        6\n",
       "Name: sourse, dtype: int64"
      ]
     },
     "execution_count": 50,
     "metadata": {},
     "output_type": "execute_result"
    }
   ],
   "source": [
    "data['sourse'].value_counts()"
   ]
  },
  {
   "cell_type": "code",
   "execution_count": 46,
   "id": "9830c8e3",
   "metadata": {},
   "outputs": [],
   "source": [
    "data = data[~(data['NOx'] == 0)]\n",
    "data = data[~(data['CO'] == 0)]\n",
    "data = data[~(data['SO2'] == 0)]"
   ]
  },
  {
   "cell_type": "code",
   "execution_count": 47,
   "id": "c031bce4",
   "metadata": {},
   "outputs": [
    {
     "data": {
      "text/plain": [
       "(19696, 6)"
      ]
     },
     "execution_count": 47,
     "metadata": {},
     "output_type": "execute_result"
    }
   ],
   "source": [
    "data.shape"
   ]
  },
  {
   "cell_type": "code",
   "execution_count": 49,
   "id": "db20a00d",
   "metadata": {},
   "outputs": [
    {
     "data": {
      "text/plain": [
       "(19155, 6)"
      ]
     },
     "execution_count": 49,
     "metadata": {},
     "output_type": "execute_result"
    }
   ],
   "source": [
    "null_rows = data.isnull().any(axis=1)  # Check if any value in each row is null\n",
    "data = data[~(null_rows)]\n",
    "data.shape"
   ]
  },
  {
   "cell_type": "code",
   "execution_count": null,
   "id": "2292b5d3",
   "metadata": {},
   "outputs": [],
   "source": []
  },
  {
   "cell_type": "code",
   "execution_count": 51,
   "id": "4380c233",
   "metadata": {},
   "outputs": [
    {
     "name": "stdout",
     "output_type": "stream",
     "text": [
      "Requirement already satisfied: imbalanced-learn in c:\\users\\malith\\anaconda3\\lib\\site-packages (0.10.1)\n",
      "Requirement already satisfied: threadpoolctl>=2.0.0 in c:\\users\\malith\\anaconda3\\lib\\site-packages (from imbalanced-learn) (2.2.0)\n",
      "Requirement already satisfied: scikit-learn>=1.0.2 in c:\\users\\malith\\anaconda3\\lib\\site-packages (from imbalanced-learn) (1.0.2)\n",
      "Requirement already satisfied: joblib>=1.1.1 in c:\\users\\malith\\anaconda3\\lib\\site-packages (from imbalanced-learn) (1.2.0)\n",
      "Requirement already satisfied: numpy>=1.17.3 in c:\\users\\malith\\anaconda3\\lib\\site-packages (from imbalanced-learn) (1.24.2)\n",
      "Requirement already satisfied: scipy>=1.3.2 in c:\\users\\malith\\anaconda3\\lib\\site-packages (from imbalanced-learn) (1.9.1)\n",
      "Note: you may need to restart the kernel to use updated packages.\n"
     ]
    }
   ],
   "source": [
    "pip install imbalanced-learn\n"
   ]
  },
  {
   "cell_type": "code",
   "execution_count": 52,
   "id": "c1766623",
   "metadata": {},
   "outputs": [
    {
     "name": "stdout",
     "output_type": "stream",
     "text": [
      "NOx    0\n",
      "CO     0\n",
      "SO2    0\n",
      "dtype: int64\n",
      "0\n"
     ]
    }
   ],
   "source": [
    "from imblearn.over_sampling import SMOTE\n",
    "\n",
    "X = data.iloc[:, 2:5]\n",
    "y = data['sourse']\n",
    "print(X.isnull().sum())\n",
    "print(y.isnull().sum())\n"
   ]
  },
  {
   "cell_type": "code",
   "execution_count": 54,
   "id": "cf747740",
   "metadata": {},
   "outputs": [
    {
     "data": {
      "text/plain": [
       "2    15782\n",
       "3    15782\n",
       "0    15782\n",
       "1    15782\n",
       "Name: sourse, dtype: int64"
      ]
     },
     "execution_count": 54,
     "metadata": {},
     "output_type": "execute_result"
    }
   ],
   "source": [
    "# Create an instance of the SMOTE class\n",
    "smote = SMOTE()\n",
    "\n",
    "# Resample the dataset\n",
    "X, y = smote.fit_resample(X, y)\n",
    "y.value_counts()"
   ]
  },
  {
   "cell_type": "code",
   "execution_count": 55,
   "id": "5ed62db7",
   "metadata": {},
   "outputs": [],
   "source": [
    "# Split the dataset into training and testing sets\n",
    "X_train, X_test, y_train, y_test = train_test_split(X, y, test_size=0.2)\n"
   ]
  },
  {
   "cell_type": "code",
   "execution_count": 59,
   "id": "dbc79e91",
   "metadata": {},
   "outputs": [],
   "source": [
    "def model_executor_and_acuracy(model):\n",
    "    # Train the model on the training data\n",
    "    model.fit(X_train, y_train)\n",
    "\n",
    "    # Make predictions on the test data\n",
    "    y_pred = model.predict(X_test)\n",
    "\n",
    "    print(f\"<<<<====== {model} ====>>>>\")\n",
    "    # Calculate the accuracy of the model\n",
    "    accuracy = accuracy_score(y_test, y_pred)\n",
    "    print(\"Accuracy:\", accuracy)\n",
    "\n",
    "    # Create a confusion matrix to visualize the performance of the model\n",
    "    cm = confusion_matrix(y_test, y_pred)\n",
    "    cm_display = ConfusionMatrixDisplay(confusion_matrix = cm, display_labels = [\"0\", \"1\",\"2\", \"3\"])\n",
    "\n",
    "    cm_display.plot()\n",
    "    plt.show()"
   ]
  },
  {
   "cell_type": "code",
   "execution_count": 60,
   "id": "94cdd927",
   "metadata": {},
   "outputs": [],
   "source": [
    "# Create a logistic regression model\n",
    "logreg = LogisticRegression()\n",
    "# Create a KNeighborsClassifier model\n",
    "knc = KNeighborsClassifier(n_neighbors=2)\n",
    "# Create a DecisionTreeClassifier model\n",
    "dtc = DecisionTreeClassifier()\n",
    "models = [logreg, dtc, knc]"
   ]
  },
  {
   "cell_type": "code",
   "execution_count": 61,
   "id": "4e0c020f",
   "metadata": {},
   "outputs": [
    {
     "name": "stdout",
     "output_type": "stream",
     "text": [
      "<<<<====== LogisticRegression() ====>>>>\n",
      "Accuracy: 0.7678599714874069\n"
     ]
    },
    {
     "name": "stderr",
     "output_type": "stream",
     "text": [
      "C:\\Users\\Malith\\anaconda3\\lib\\site-packages\\sklearn\\linear_model\\_logistic.py:814: ConvergenceWarning: lbfgs failed to converge (status=1):\n",
      "STOP: TOTAL NO. of ITERATIONS REACHED LIMIT.\n",
      "\n",
      "Increase the number of iterations (max_iter) or scale the data as shown in:\n",
      "    https://scikit-learn.org/stable/modules/preprocessing.html\n",
      "Please also refer to the documentation for alternative solver options:\n",
      "    https://scikit-learn.org/stable/modules/linear_model.html#logistic-regression\n",
      "  n_iter_i = _check_optimize_result(\n"
     ]
    },
    {
     "data": {
      "image/png": "[encoded data removed]",
      "text/plain": [
       "<Figure size 640x480 with 2 Axes>"
      ]
     },
     "metadata": {},
     "output_type": "display_data"
    },
    {
     "name": "stdout",
     "output_type": "stream",
     "text": [
      "<<<<====== DecisionTreeClassifier() ====>>>>\n",
      "Accuracy: 0.9996039917630287\n"
     ]
    },
    {
     "data": {
      "image/png": "[encoded data removed]",
      "text/plain": [
       "<Figure size 640x480 with 2 Axes>"
      ]
     },
     "metadata": {},
     "output_type": "display_data"
    },
    {
     "name": "stderr",
     "output_type": "stream",
     "text": [
      "C:\\Users\\Malith\\anaconda3\\lib\\site-packages\\sklearn\\neighbors\\_classification.py:228: FutureWarning: Unlike other reduction functions (e.g. `skew`, `kurtosis`), the default behavior of `mode` typically preserves the axis it acts along. In SciPy 1.11.0, this behavior will change: the default value of `keepdims` will become False, the `axis` over which the statistic is taken will be eliminated, and the value None will no longer be accepted. Set `keepdims` to True or False to avoid this warning.\n",
      "  mode, _ = stats.mode(_y[neigh_ind, k], axis=1)\n"
     ]
    },
    {
     "name": "stdout",
     "output_type": "stream",
     "text": [
      "<<<<====== KNeighborsClassifier(n_neighbors=2) ====>>>>\n",
      "Accuracy: 0.9897037858387454\n"
     ]
    },
    {
     "data": {
      "image/png": "[encoded data removed]",
      "text/plain": [
       "<Figure size 640x480 with 2 Axes>"
      ]
     },
     "metadata": {},
     "output_type": "display_data"
    }
   ],
   "source": [
    "# calling method - model_executor_and_acuracy\n",
    "for model in models:\n",
    "    model_executor_and_acuracy(model)"
   ]
  },
  {
   "cell_type": "code",
   "execution_count": 62,
   "id": "b6516bad",
   "metadata": {},
   "outputs": [
    {
     "data": {
      "text/plain": [
       "DecisionTreeClassifier()"
      ]
     },
     "execution_count": 62,
     "metadata": {},
     "output_type": "execute_result"
    }
   ],
   "source": [
    "select_model = DecisionTreeClassifier()\n",
    "select_model.fit(X, y)\n"
   ]
  },
  {
   "cell_type": "markdown",
   "id": "3c57d2d3",
   "metadata": {},
   "source": [
    "# Save model"
   ]
  },
  {
   "cell_type": "code",
   "execution_count": 63,
   "id": "9ef871c7",
   "metadata": {},
   "outputs": [
    {
     "data": {
      "text/plain": [
       "['DecisionTreeClassifierModel.pickle']"
      ]
     },
     "execution_count": 63,
     "metadata": {},
     "output_type": "execute_result"
    }
   ],
   "source": [
    "import joblib\n",
    "\n",
    "# save model\n",
    "joblib.dump(select_model, 'DecisionTreeClassifierModel.pickle')"
   ]
  },
  {
   "cell_type": "markdown",
   "id": "df1cdb8b",
   "metadata": {},
   "source": [
    "# Load model"
   ]
  },
  {
   "cell_type": "code",
   "execution_count": 64,
   "id": "8e93345d",
   "metadata": {},
   "outputs": [
    {
     "data": {
      "text/html": [
       "<div>\n",
       "<style scoped>\n",
       "    .dataframe tbody tr th:only-of-type {\n",
       "        vertical-align: middle;\n",
       "    }\n",
       "\n",
       "    .dataframe tbody tr th {\n",
       "        vertical-align: top;\n",
       "    }\n",
       "\n",
       "    .dataframe thead th {\n",
       "        text-align: right;\n",
       "    }\n",
       "</style>\n",
       "<table border=\"1\" class=\"dataframe\">\n",
       "  <thead>\n",
       "    <tr style=\"text-align: right;\">\n",
       "      <th></th>\n",
       "      <th>NOx</th>\n",
       "      <th>CO</th>\n",
       "      <th>SO2</th>\n",
       "    </tr>\n",
       "  </thead>\n",
       "  <tbody>\n",
       "    <tr>\n",
       "      <th>0</th>\n",
       "      <td>17.150000</td>\n",
       "      <td>24.000000</td>\n",
       "      <td>27.640000</td>\n",
       "    </tr>\n",
       "    <tr>\n",
       "      <th>1</th>\n",
       "      <td>16.460000</td>\n",
       "      <td>30.000000</td>\n",
       "      <td>24.550000</td>\n",
       "    </tr>\n",
       "    <tr>\n",
       "      <th>2</th>\n",
       "      <td>29.700000</td>\n",
       "      <td>28.000000</td>\n",
       "      <td>29.070000</td>\n",
       "    </tr>\n",
       "    <tr>\n",
       "      <th>3</th>\n",
       "      <td>17.970000</td>\n",
       "      <td>29.000000</td>\n",
       "      <td>18.590000</td>\n",
       "    </tr>\n",
       "    <tr>\n",
       "      <th>4</th>\n",
       "      <td>37.760000</td>\n",
       "      <td>36.000000</td>\n",
       "      <td>39.330000</td>\n",
       "    </tr>\n",
       "    <tr>\n",
       "      <th>...</th>\n",
       "      <td>...</td>\n",
       "      <td>...</td>\n",
       "      <td>...</td>\n",
       "    </tr>\n",
       "    <tr>\n",
       "      <th>63123</th>\n",
       "      <td>12.825676</td>\n",
       "      <td>23.814675</td>\n",
       "      <td>2.421802</td>\n",
       "    </tr>\n",
       "    <tr>\n",
       "      <th>63124</th>\n",
       "      <td>16.954082</td>\n",
       "      <td>16.954082</td>\n",
       "      <td>126.311788</td>\n",
       "    </tr>\n",
       "    <tr>\n",
       "      <th>63125</th>\n",
       "      <td>17.313391</td>\n",
       "      <td>17.313391</td>\n",
       "      <td>60.790767</td>\n",
       "    </tr>\n",
       "    <tr>\n",
       "      <th>63126</th>\n",
       "      <td>17.099387</td>\n",
       "      <td>24.315798</td>\n",
       "      <td>4.747342</td>\n",
       "    </tr>\n",
       "    <tr>\n",
       "      <th>63127</th>\n",
       "      <td>18.727983</td>\n",
       "      <td>18.447643</td>\n",
       "      <td>3.797308</td>\n",
       "    </tr>\n",
       "  </tbody>\n",
       "</table>\n",
       "<p>63128 rows × 3 columns</p>\n",
       "</div>"
      ],
      "text/plain": [
       "             NOx         CO         SO2\n",
       "0      17.150000  24.000000   27.640000\n",
       "1      16.460000  30.000000   24.550000\n",
       "2      29.700000  28.000000   29.070000\n",
       "3      17.970000  29.000000   18.590000\n",
       "4      37.760000  36.000000   39.330000\n",
       "...          ...        ...         ...\n",
       "63123  12.825676  23.814675    2.421802\n",
       "63124  16.954082  16.954082  126.311788\n",
       "63125  17.313391  17.313391   60.790767\n",
       "63126  17.099387  24.315798    4.747342\n",
       "63127  18.727983  18.447643    3.797308\n",
       "\n",
       "[63128 rows x 3 columns]"
      ]
     },
     "execution_count": 64,
     "metadata": {},
     "output_type": "execute_result"
    }
   ],
   "source": [
    "# Load model\n",
    "load_mode = joblib.load('DecisionTreeClassifierModel.pickle')\n",
    "X"
   ]
  },
  {
   "cell_type": "markdown",
   "id": "76ccc03f",
   "metadata": {},
   "source": [
    "# Load Csv File"
   ]
  },
  {
   "cell_type": "code",
   "execution_count": 65,
   "id": "59a57fd5",
   "metadata": {},
   "outputs": [
    {
     "name": "stdout",
     "output_type": "stream",
     "text": [
      "   NOx  CO  SO2\n",
      "0   56  65   43\n",
      "predic [3]\n"
     ]
    },
    {
     "name": "stderr",
     "output_type": "stream",
     "text": [
      "C:\\Users\\Malith\\anaconda3\\lib\\site-packages\\sklearn\\base.py:450: UserWarning: X does not have valid feature names, but DecisionTreeClassifier was fitted with feature names\n",
      "  warnings.warn(\n"
     ]
    }
   ],
   "source": [
    "s2 = [[56],[65], [43]]\n",
    "df = pd.DataFrame({'NOx': s2[0], 'CO': s2[1], 'SO2': s2[2]})\n",
    "print(df)\n",
    "\n",
    "sample = df.iloc[:,:].values \n",
    "\n",
    "predict_res = load_mode.predict(sample)\n",
    "print('predic', predict_res)"
   ]
  },
  {
   "cell_type": "code",
   "execution_count": 66,
   "id": "38ac9039",
   "metadata": {},
   "outputs": [
    {
     "data": {
      "text/html": [
       "<div>\n",
       "<style scoped>\n",
       "    .dataframe tbody tr th:only-of-type {\n",
       "        vertical-align: middle;\n",
       "    }\n",
       "\n",
       "    .dataframe tbody tr th {\n",
       "        vertical-align: top;\n",
       "    }\n",
       "\n",
       "    .dataframe thead th {\n",
       "        text-align: right;\n",
       "    }\n",
       "</style>\n",
       "<table border=\"1\" class=\"dataframe\">\n",
       "  <thead>\n",
       "    <tr style=\"text-align: right;\">\n",
       "      <th></th>\n",
       "      <th>NOx</th>\n",
       "      <th>CO</th>\n",
       "      <th>SO2</th>\n",
       "    </tr>\n",
       "  </thead>\n",
       "  <tbody>\n",
       "    <tr>\n",
       "      <th>0</th>\n",
       "      <td>45</td>\n",
       "      <td>85</td>\n",
       "      <td>87</td>\n",
       "    </tr>\n",
       "    <tr>\n",
       "      <th>1</th>\n",
       "      <td>77</td>\n",
       "      <td>33</td>\n",
       "      <td>55</td>\n",
       "    </tr>\n",
       "    <tr>\n",
       "      <th>2</th>\n",
       "      <td>88</td>\n",
       "      <td>45</td>\n",
       "      <td>89</td>\n",
       "    </tr>\n",
       "  </tbody>\n",
       "</table>\n",
       "</div>"
      ],
      "text/plain": [
       "   NOx  CO  SO2\n",
       "0   45  85   87\n",
       "1   77  33   55\n",
       "2   88  45   89"
      ]
     },
     "execution_count": 66,
     "metadata": {},
     "output_type": "execute_result"
    }
   ],
   "source": [
    "import pandas as pd\n",
    "result_list = [\n",
    "    {\"NOx\": 45, \"CO\": 85, \"SO2\": 87},{\"NOx\": 77, \"CO\": 33, \"SO2\": 55},{\"NOx\": 88, \"CO\": 45, \"SO2\": 89}\n",
    "]\n",
    "# Example DataFrame\n",
    "df = pd.DataFrame(result_list)\n",
    "\n",
    "# Convert DataFrame to list of dictionaries\n",
    "grades_list = df.to_dict(orient=\"records\")\n",
    "\n",
    "df\n"
   ]
  }
 ],
 "metadata": {
  "kernelspec": {
   "display_name": "Python 3 (ipykernel)",
   "language": "python",
   "name": "python3"
  },
  "language_info": {
   "codemirror_mode": {
    "name": "ipython",
    "version": 3
   },
   "file_extension": ".py",
   "mimetype": "text/x-python",
   "name": "python",
   "nbconvert_exporter": "python",
   "pygments_lexer": "ipython3",
   "version": "3.9.13"
  }
 },
 "nbformat": 4,
 "nbformat_minor": 5
}
